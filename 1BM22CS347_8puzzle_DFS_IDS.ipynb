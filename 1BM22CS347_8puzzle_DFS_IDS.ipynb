{
  "nbformat": 4,
  "nbformat_minor": 0,
  "metadata": {
    "colab": {
      "provenance": []
    },
    "kernelspec": {
      "name": "python3",
      "display_name": "Python 3"
    },
    "language_info": {
      "name": "python"
    }
  },
  "cells": [
    {
      "cell_type": "code",
      "source": [
        "class Puzzle:\n",
        "    def __init__(self, start, goal):\n",
        "        self.start = start\n",
        "        self.goal = goal\n",
        "        self.rows = 3\n",
        "        self.cols = 3\n",
        "\n",
        "    def get_neighbors(self, state):\n",
        "        neighbors = []\n",
        "        zero_pos = state.index(0)\n",
        "        zero_row, zero_col = zero_pos // self.cols, zero_pos % self.cols\n",
        "\n",
        "        moves = [(-1, 0), (1, 0), (0, -1), (0, 1)]\n",
        "        for move in moves:\n",
        "            new_row, new_col = zero_row + move[0], zero_col + move[1]\n",
        "            if 0 <= new_row < self.rows and 0 <= new_col < self.cols:\n",
        "                new_pos = new_row * self.cols + new_col\n",
        "                new_state = list(state)\n",
        "                new_state[zero_pos], new_state[new_pos] = new_state[new_pos], new_state[zero_pos]\n",
        "                neighbors.append(new_state)\n",
        "        return neighbors\n",
        "\n",
        "    def dfs(self):\n",
        "        stack = [(self.start, [])]\n",
        "        visited = set()\n",
        "        while stack:\n",
        "            state, path = stack.pop()\n",
        "            if tuple(state) in visited:\n",
        "                continue\n",
        "            visited.add(tuple(state))\n",
        "\n",
        "            if state == self.goal:\n",
        "                return path + [state]\n",
        "\n",
        "            neighbors = self.get_neighbors(state)\n",
        "            for neighbor in neighbors:\n",
        "                stack.append((neighbor, path + [state]))\n",
        "        return None\n",
        "\n",
        "start_state = [5,4,0,6,1,8,7,3,2]\n",
        "goal_state = [0,1,2,3,4,5,6,7,8]\n",
        "puzzle = Puzzle(start_state, goal_state)\n",
        "solution = puzzle.dfs()\n",
        "if solution:\n",
        "    for step in solution:\n",
        "        print(step)\n",
        "else:\n",
        "    print(\"No solution found.\")\n"
      ],
      "metadata": {
        "colab": {
          "base_uri": "https://localhost:8080/",
          "height": 356
        },
        "id": "8Uz3wvuch4Gd",
        "outputId": "de6f31f2-5335-4ef8-d899-2d0ee48ac2b2"
      },
      "execution_count": 1,
      "outputs": [
        {
          "output_type": "error",
          "ename": "KeyboardInterrupt",
          "evalue": "",
          "traceback": [
            "\u001b[0;31m---------------------------------------------------------------------------\u001b[0m",
            "\u001b[0;31mKeyboardInterrupt\u001b[0m                         Traceback (most recent call last)",
            "\u001b[0;32m<ipython-input-1-0da234bfd2a1>\u001b[0m in \u001b[0;36m<cell line: 43>\u001b[0;34m()\u001b[0m\n\u001b[1;32m     41\u001b[0m \u001b[0mgoal_state\u001b[0m \u001b[0;34m=\u001b[0m \u001b[0;34m[\u001b[0m\u001b[0;36m0\u001b[0m\u001b[0;34m,\u001b[0m\u001b[0;36m1\u001b[0m\u001b[0;34m,\u001b[0m\u001b[0;36m2\u001b[0m\u001b[0;34m,\u001b[0m\u001b[0;36m3\u001b[0m\u001b[0;34m,\u001b[0m\u001b[0;36m4\u001b[0m\u001b[0;34m,\u001b[0m\u001b[0;36m5\u001b[0m\u001b[0;34m,\u001b[0m\u001b[0;36m6\u001b[0m\u001b[0;34m,\u001b[0m\u001b[0;36m7\u001b[0m\u001b[0;34m,\u001b[0m\u001b[0;36m8\u001b[0m\u001b[0;34m]\u001b[0m\u001b[0;34m\u001b[0m\u001b[0;34m\u001b[0m\u001b[0m\n\u001b[1;32m     42\u001b[0m \u001b[0mpuzzle\u001b[0m \u001b[0;34m=\u001b[0m \u001b[0mPuzzle\u001b[0m\u001b[0;34m(\u001b[0m\u001b[0mstart_state\u001b[0m\u001b[0;34m,\u001b[0m \u001b[0mgoal_state\u001b[0m\u001b[0;34m)\u001b[0m\u001b[0;34m\u001b[0m\u001b[0;34m\u001b[0m\u001b[0m\n\u001b[0;32m---> 43\u001b[0;31m \u001b[0msolution\u001b[0m \u001b[0;34m=\u001b[0m \u001b[0mpuzzle\u001b[0m\u001b[0;34m.\u001b[0m\u001b[0mdfs\u001b[0m\u001b[0;34m(\u001b[0m\u001b[0;34m)\u001b[0m\u001b[0;34m\u001b[0m\u001b[0;34m\u001b[0m\u001b[0m\n\u001b[0m\u001b[1;32m     44\u001b[0m \u001b[0;32mif\u001b[0m \u001b[0msolution\u001b[0m\u001b[0;34m:\u001b[0m\u001b[0;34m\u001b[0m\u001b[0;34m\u001b[0m\u001b[0m\n\u001b[1;32m     45\u001b[0m     \u001b[0;32mfor\u001b[0m \u001b[0mstep\u001b[0m \u001b[0;32min\u001b[0m \u001b[0msolution\u001b[0m\u001b[0;34m:\u001b[0m\u001b[0;34m\u001b[0m\u001b[0;34m\u001b[0m\u001b[0m\n",
            "\u001b[0;32m<ipython-input-1-0da234bfd2a1>\u001b[0m in \u001b[0;36mdfs\u001b[0;34m(self)\u001b[0m\n\u001b[1;32m     33\u001b[0m                 \u001b[0;32mreturn\u001b[0m \u001b[0mpath\u001b[0m \u001b[0;34m+\u001b[0m \u001b[0;34m[\u001b[0m\u001b[0mstate\u001b[0m\u001b[0;34m]\u001b[0m\u001b[0;34m\u001b[0m\u001b[0;34m\u001b[0m\u001b[0m\n\u001b[1;32m     34\u001b[0m \u001b[0;34m\u001b[0m\u001b[0m\n\u001b[0;32m---> 35\u001b[0;31m             \u001b[0mneighbors\u001b[0m \u001b[0;34m=\u001b[0m \u001b[0mself\u001b[0m\u001b[0;34m.\u001b[0m\u001b[0mget_neighbors\u001b[0m\u001b[0;34m(\u001b[0m\u001b[0mstate\u001b[0m\u001b[0;34m)\u001b[0m\u001b[0;34m\u001b[0m\u001b[0;34m\u001b[0m\u001b[0m\n\u001b[0m\u001b[1;32m     36\u001b[0m             \u001b[0;32mfor\u001b[0m \u001b[0mneighbor\u001b[0m \u001b[0;32min\u001b[0m \u001b[0mneighbors\u001b[0m\u001b[0;34m:\u001b[0m\u001b[0;34m\u001b[0m\u001b[0;34m\u001b[0m\u001b[0m\n\u001b[1;32m     37\u001b[0m                 \u001b[0mstack\u001b[0m\u001b[0;34m.\u001b[0m\u001b[0mappend\u001b[0m\u001b[0;34m(\u001b[0m\u001b[0;34m(\u001b[0m\u001b[0mneighbor\u001b[0m\u001b[0;34m,\u001b[0m \u001b[0mpath\u001b[0m \u001b[0;34m+\u001b[0m \u001b[0;34m[\u001b[0m\u001b[0mstate\u001b[0m\u001b[0;34m]\u001b[0m\u001b[0;34m)\u001b[0m\u001b[0;34m)\u001b[0m\u001b[0;34m\u001b[0m\u001b[0;34m\u001b[0m\u001b[0m\n",
            "\u001b[0;32m<ipython-input-1-0da234bfd2a1>\u001b[0m in \u001b[0;36mget_neighbors\u001b[0;34m(self, state)\u001b[0m\n\u001b[1;32m     16\u001b[0m             \u001b[0;32mif\u001b[0m \u001b[0;36m0\u001b[0m \u001b[0;34m<=\u001b[0m \u001b[0mnew_row\u001b[0m \u001b[0;34m<\u001b[0m \u001b[0mself\u001b[0m\u001b[0;34m.\u001b[0m\u001b[0mrows\u001b[0m \u001b[0;32mand\u001b[0m \u001b[0;36m0\u001b[0m \u001b[0;34m<=\u001b[0m \u001b[0mnew_col\u001b[0m \u001b[0;34m<\u001b[0m \u001b[0mself\u001b[0m\u001b[0;34m.\u001b[0m\u001b[0mcols\u001b[0m\u001b[0;34m:\u001b[0m\u001b[0;34m\u001b[0m\u001b[0;34m\u001b[0m\u001b[0m\n\u001b[1;32m     17\u001b[0m                 \u001b[0mnew_pos\u001b[0m \u001b[0;34m=\u001b[0m \u001b[0mnew_row\u001b[0m \u001b[0;34m*\u001b[0m \u001b[0mself\u001b[0m\u001b[0;34m.\u001b[0m\u001b[0mcols\u001b[0m \u001b[0;34m+\u001b[0m \u001b[0mnew_col\u001b[0m\u001b[0;34m\u001b[0m\u001b[0;34m\u001b[0m\u001b[0m\n\u001b[0;32m---> 18\u001b[0;31m                 \u001b[0mnew_state\u001b[0m \u001b[0;34m=\u001b[0m \u001b[0mlist\u001b[0m\u001b[0;34m(\u001b[0m\u001b[0mstate\u001b[0m\u001b[0;34m)\u001b[0m\u001b[0;34m\u001b[0m\u001b[0;34m\u001b[0m\u001b[0m\n\u001b[0m\u001b[1;32m     19\u001b[0m                 \u001b[0mnew_state\u001b[0m\u001b[0;34m[\u001b[0m\u001b[0mzero_pos\u001b[0m\u001b[0;34m]\u001b[0m\u001b[0;34m,\u001b[0m \u001b[0mnew_state\u001b[0m\u001b[0;34m[\u001b[0m\u001b[0mnew_pos\u001b[0m\u001b[0;34m]\u001b[0m \u001b[0;34m=\u001b[0m \u001b[0mnew_state\u001b[0m\u001b[0;34m[\u001b[0m\u001b[0mnew_pos\u001b[0m\u001b[0;34m]\u001b[0m\u001b[0;34m,\u001b[0m \u001b[0mnew_state\u001b[0m\u001b[0;34m[\u001b[0m\u001b[0mzero_pos\u001b[0m\u001b[0;34m]\u001b[0m\u001b[0;34m\u001b[0m\u001b[0;34m\u001b[0m\u001b[0m\n\u001b[1;32m     20\u001b[0m                 \u001b[0mneighbors\u001b[0m\u001b[0;34m.\u001b[0m\u001b[0mappend\u001b[0m\u001b[0;34m(\u001b[0m\u001b[0mnew_state\u001b[0m\u001b[0;34m)\u001b[0m\u001b[0;34m\u001b[0m\u001b[0;34m\u001b[0m\u001b[0m\n",
            "\u001b[0;31mKeyboardInterrupt\u001b[0m: "
          ]
        }
      ]
    },
    {
      "cell_type": "code",
      "source": [
        "class PuzzleIDS:\n",
        "    def __init__(self, start, goal):\n",
        "        self.start = start\n",
        "        self.goal = goal\n",
        "        self.rows = 3\n",
        "        self.cols = 3\n",
        "\n",
        "    def get_neighbors(self, state):\n",
        "        neighbors = []\n",
        "        zero_pos = state.index(0)\n",
        "        zero_row, zero_col = zero_pos // self.cols, zero_pos % self.cols\n",
        "\n",
        "        moves = [(-1, 0), (1, 0), (0, -1), (0, 1)]\n",
        "        for move in moves:\n",
        "            new_row, new_col = zero_row + move[0], zero_col + move[1]\n",
        "            if 0 <= new_row < self.rows and 0 <= new_col < self.cols:\n",
        "                new_pos = new_row * self.cols + new_col\n",
        "                new_state = list(state)\n",
        "                new_state[zero_pos], new_state[new_pos] = new_state[new_pos], new_state[zero_pos]\n",
        "                neighbors.append(new_state)\n",
        "        return neighbors\n",
        "\n",
        "    def dls(self, state, limit, path, visited):\n",
        "        if tuple(state) in visited:\n",
        "            return None\n",
        "        visited.add(tuple(state))\n",
        "\n",
        "        if state == self.goal:\n",
        "            return path + [state]\n",
        "\n",
        "        if limit <= 0:\n",
        "            return None\n",
        "\n",
        "        neighbors = self.get_neighbors(state)\n",
        "        for neighbor in neighbors:\n",
        "            result = self.dls(neighbor, limit - 1, path + [state], visited)\n",
        "            if result:\n",
        "                return result\n",
        "\n",
        "        visited.remove(tuple(state))\n",
        "        return None\n",
        "\n",
        "    def ids(self):\n",
        "        depth = 0\n",
        "        while True:\n",
        "            visited = set()\n",
        "            result = self.dls(self.start, depth, [], visited)\n",
        "            if result:\n",
        "                return result\n",
        "            depth += 1\n",
        "\n",
        "start_state = [5,4,0,6,1,8,7,3,2]\n",
        "goal_state = [0,1,2,3,4,5,6,7,8]\n",
        "puzzle_ids = PuzzleIDS(start_state, goal_state)\n",
        "solution = puzzle_ids.ids()\n",
        "if solution:\n",
        "    for step in solution:\n",
        "        print(step)\n",
        "else:\n",
        "    print(\"No solution found.\")\n"
      ],
      "metadata": {
        "colab": {
          "base_uri": "https://localhost:8080/"
        },
        "id": "-8aMDC_tiozN",
        "outputId": "1c43a0b0-03a6-4822-b090-87e8ed769c47"
      },
      "execution_count": 1,
      "outputs": [
        {
          "output_type": "stream",
          "name": "stdout",
          "text": [
            "[5, 4, 0, 6, 1, 8, 7, 3, 2]\n",
            "[5, 4, 8, 6, 1, 0, 7, 3, 2]\n",
            "[5, 4, 8, 6, 1, 2, 7, 3, 0]\n",
            "[5, 4, 8, 6, 1, 2, 7, 0, 3]\n",
            "[5, 4, 8, 6, 0, 2, 7, 1, 3]\n",
            "[5, 4, 8, 6, 2, 0, 7, 1, 3]\n",
            "[5, 4, 0, 6, 2, 8, 7, 1, 3]\n",
            "[5, 0, 4, 6, 2, 8, 7, 1, 3]\n",
            "[0, 5, 4, 6, 2, 8, 7, 1, 3]\n",
            "[6, 5, 4, 0, 2, 8, 7, 1, 3]\n",
            "[6, 5, 4, 2, 0, 8, 7, 1, 3]\n",
            "[6, 5, 4, 2, 1, 8, 7, 0, 3]\n",
            "[6, 5, 4, 2, 1, 8, 7, 3, 0]\n",
            "[6, 5, 4, 2, 1, 0, 7, 3, 8]\n",
            "[6, 5, 0, 2, 1, 4, 7, 3, 8]\n",
            "[6, 0, 5, 2, 1, 4, 7, 3, 8]\n",
            "[6, 1, 5, 2, 0, 4, 7, 3, 8]\n",
            "[6, 1, 5, 0, 2, 4, 7, 3, 8]\n",
            "[0, 1, 5, 6, 2, 4, 7, 3, 8]\n",
            "[1, 0, 5, 6, 2, 4, 7, 3, 8]\n",
            "[1, 2, 5, 6, 0, 4, 7, 3, 8]\n",
            "[1, 2, 5, 6, 4, 0, 7, 3, 8]\n",
            "[1, 2, 0, 6, 4, 5, 7, 3, 8]\n",
            "[1, 0, 2, 6, 4, 5, 7, 3, 8]\n",
            "[1, 4, 2, 6, 0, 5, 7, 3, 8]\n",
            "[1, 4, 2, 6, 3, 5, 7, 0, 8]\n",
            "[1, 4, 2, 6, 3, 5, 0, 7, 8]\n",
            "[1, 4, 2, 0, 3, 5, 6, 7, 8]\n",
            "[1, 4, 2, 3, 0, 5, 6, 7, 8]\n",
            "[1, 0, 2, 3, 4, 5, 6, 7, 8]\n",
            "[0, 1, 2, 3, 4, 5, 6, 7, 8]\n"
          ]
        }
      ]
    },
    {
      "cell_type": "code",
      "source": [],
      "metadata": {
        "id": "Y-GOx4uomNaN"
      },
      "execution_count": null,
      "outputs": []
    }
  ]
}
