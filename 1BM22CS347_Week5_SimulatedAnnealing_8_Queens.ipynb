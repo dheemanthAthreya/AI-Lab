{
  "nbformat": 4,
  "nbformat_minor": 0,
  "metadata": {
    "colab": {
      "provenance": [],
      "authorship_tag": "ABX9TyNqT7uxwLj9lBY/xlohbEVX",
      "include_colab_link": true
    },
    "kernelspec": {
      "name": "python3",
      "display_name": "Python 3"
    },
    "language_info": {
      "name": "python"
    }
  },
  "cells": [
    {
      "cell_type": "markdown",
      "metadata": {
        "id": "view-in-github",
        "colab_type": "text"
      },
      "source": [
        "<a href=\"https://colab.research.google.com/github/dheemanthAthreya/AI-Lab/blob/main/1BM22CS347_Week5_SimulatedAnnealing_8_Queens.ipynb\" target=\"_parent\"><img src=\"https://colab.research.google.com/assets/colab-badge.svg\" alt=\"Open In Colab\"/></a>"
      ]
    },
    {
      "cell_type": "code",
      "source": [
        "import random\n",
        "import math\n",
        "\n",
        "def initialize_board(n):\n",
        "    board = list(range(n))\n",
        "    random.shuffle(board)\n",
        "    return board\n",
        "\n",
        "def count_conflicts(board):\n",
        "    conflicts = 0\n",
        "    n = len(board)\n",
        "    for i in range(n):\n",
        "        for j in range(i + 1, n):\n",
        "            if board[i] == board[j] or abs(board[i] - board[j]) == abs(i - j):\n",
        "                conflicts += 1\n",
        "    return conflicts\n",
        "\n",
        "def get_neighbor(board):\n",
        "    n = len(board)\n",
        "    new_board = board[:]\n",
        "    i, j = random.sample(range(n), 2)\n",
        "    new_board[i], new_board[j] = new_board[j], new_board[i]\n",
        "    return new_board\n",
        "\n",
        "def print_board(board):\n",
        "    n = len(board)\n",
        "    for row in range(n):\n",
        "        line = \"\"\n",
        "        for col in range(n):\n",
        "            if board[col] == row:\n",
        "                line += \" Q \"\n",
        "            else:\n",
        "                line += \" . \"\n",
        "        print(line)\n",
        "    print(\"\\n\" + \"-\" * (n * 3) + \"\\n\")\n",
        "\n",
        "def simulated_annealing(n, max_steps=1000, temperature=1.0, cooling_rate=0.99):\n",
        "    steps = 1\n",
        "    board = initialize_board(n)\n",
        "    current_conflicts = count_conflicts(board)\n",
        "\n",
        "    initial_board = board[:]\n",
        "\n",
        "    print(\"Initial Configuration:\")\n",
        "    print_board(initial_board)\n",
        "\n",
        "\n",
        "    for step in range(max_steps):\n",
        "        if current_conflicts == 0:\n",
        "            print(f\"Final Solution after {steps} steps:\")\n",
        "            print_board(board)\n",
        "\n",
        "            return board\n",
        "        steps = steps + 1;\n",
        "        neighbor = get_neighbor(board)\n",
        "        neighbor_conflicts = count_conflicts(neighbor)\n",
        "\n",
        "        delta_conflicts = neighbor_conflicts - current_conflicts\n",
        "        if delta_conflicts < 0 or random.uniform(0, 1) < math.exp(-delta_conflicts / temperature):\n",
        "            board, current_conflicts = neighbor, neighbor_conflicts\n",
        "\n",
        "        temperature *= cooling_rate\n",
        "\n",
        "    print(\"No solution found within max steps.\")\n",
        "    return None\n",
        "\n",
        "solution = simulated_annealing(8)\n",
        "if not solution:\n",
        "    print(\"Failed to find a solution.\")\n"
      ],
      "metadata": {
        "colab": {
          "base_uri": "https://localhost:8080/"
        },
        "id": "CcPCowaIe7AX",
        "outputId": "e9f0a794-7b88-4fba-ba83-127d1931fa15"
      },
      "execution_count": 23,
      "outputs": [
        {
          "output_type": "stream",
          "name": "stdout",
          "text": [
            "Initial Configuration:\n",
            " .  .  .  .  .  .  .  Q \n",
            " Q  .  .  .  .  .  .  . \n",
            " .  .  Q  .  .  .  .  . \n",
            " .  .  .  .  .  Q  .  . \n",
            " .  .  .  Q  .  .  .  . \n",
            " .  .  .  .  .  .  Q  . \n",
            " .  .  .  .  Q  .  .  . \n",
            " .  Q  .  .  .  .  .  . \n",
            "\n",
            "------------------------\n",
            "\n",
            "Final Solution after 42 steps:\n",
            " .  .  .  .  .  .  Q  . \n",
            " .  .  .  Q  .  .  .  . \n",
            " .  Q  .  .  .  .  .  . \n",
            " .  .  .  .  Q  .  .  . \n",
            " .  .  .  .  .  .  .  Q \n",
            " Q  .  .  .  .  .  .  . \n",
            " .  .  Q  .  .  .  .  . \n",
            " .  .  .  .  .  Q  .  . \n",
            "\n",
            "------------------------\n",
            "\n"
          ]
        }
      ]
    }
  ]
}