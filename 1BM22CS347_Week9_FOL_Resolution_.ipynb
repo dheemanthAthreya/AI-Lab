{
  "nbformat": 4,
  "nbformat_minor": 0,
  "metadata": {
    "colab": {
      "provenance": [],
      "authorship_tag": "ABX9TyP4pO9z9XOm8sEdLNkrTuAl",
      "include_colab_link": true
    },
    "kernelspec": {
      "name": "python3",
      "display_name": "Python 3"
    },
    "language_info": {
      "name": "python"
    }
  },
  "cells": [
    {
      "cell_type": "markdown",
      "metadata": {
        "id": "view-in-github",
        "colab_type": "text"
      },
      "source": [
        "<a href=\"https://colab.research.google.com/github/dheemanthAthreya/AI-Lab/blob/main/1BM22CS347_Week9_FOL_Resolution_.ipynb\" target=\"_parent\"><img src=\"https://colab.research.google.com/assets/colab-badge.svg\" alt=\"Open In Colab\"/></a>"
      ]
    },
    {
      "cell_type": "code",
      "execution_count": 21,
      "metadata": {
        "colab": {
          "base_uri": "https://localhost:8080/"
        },
        "id": "KRETWyLtqyPr",
        "outputId": "49545d2a-305c-46f3-d324-2e6807e567ff"
      },
      "outputs": [
        {
          "output_type": "stream",
          "name": "stdout",
          "text": [
            "Resolution failed: Goal could not be proven.\n"
          ]
        }
      ],
      "source": [
        "from sympy import symbols\n",
        "from sympy.logic.boolalg import Or, Not, And\n",
        "from sympy.logic.inference import satisfiable\n",
        "\n",
        "def resolution_proof():\n",
        "    # Step 1: Define symbols (predicates and constants)\n",
        "    Mother = symbols('Mother')          # Mother(Leela, Oshin)\n",
        "    Parent = symbols('Parent')          # Parent(Leela, Oshin)\n",
        "    Alive = symbols('Alive')            # Alive(Leela)\n",
        "    Older = symbols('Older')            # Older(Leela, Oshin)b\n",
        "\n",
        "    # Step 2: Represent Premises\n",
        "    # Fact 1: Mother(Leela, Oshin)\n",
        "    fact1 = Mother\n",
        "\n",
        "    # Fact 2: Alive(Leela)\n",
        "    fact2 = Alive\n",
        "\n",
        "    # Rule 1: Mother(x, y) -> Parent(x, y)  -->  ~Mother(x, y) OR Parent(x, y)\n",
        "    rule1 = Or(Not(Mother), Parent)\n",
        "\n",
        "    # Rule 2: Parent(x, y) AND Alive(x) -> Older(x, y)  -->  ~Parent(x, y) OR ~Alive(x) OR Older(x, y)\n",
        "    rule2 = Or(Not(Parent), Not(Alive), Older)\n",
        "\n",
        "    # Negation of Goal: ~Older(Leela, Oshin)\n",
        "    negated_goal = Not(Older)\n",
        "\n",
        "    # Step 3: Combine all clauses\n",
        "    clauses = And(fact1, fact2, rule1, rule2, negated_goal)\n",
        "\n",
        "    # Step 4: Check satisfiability\n",
        "    result = satisfiable(clauses)\n",
        "\n",
        "    # Step 5: Print Result\n",
        "    if result:\n",
        "        print(\"Resolution failed: Goal could not be proven.\")\n",
        "    else:\n",
        "        print(\"Goal proven: Leela is older than Oshin.\")\n",
        "\n",
        "# Run the proof\n",
        "resolution_proof()\n"
      ]
    }
  ]
}