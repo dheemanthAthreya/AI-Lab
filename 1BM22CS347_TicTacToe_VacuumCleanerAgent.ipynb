{
  "nbformat": 4,
  "nbformat_minor": 0,
  "metadata": {
    "colab": {
      "provenance": [],
      "toc_visible": true
    },
    "kernelspec": {
      "name": "python3",
      "display_name": "Python 3"
    },
    "language_info": {
      "name": "python"
    }
  },
  "cells": [
    {
      "cell_type": "markdown",
      "source": [
        "Tic Tac Toe\n"
      ],
      "metadata": {
        "id": "9WMxTQhqWh_7"
      }
    },
    {
      "cell_type": "code",
      "source": [
        "import random\n",
        "\n",
        "board = [[0, 0, 0],\n",
        "         [0, 0, 0],\n",
        "         [0, 0, 0]]\n",
        "\n",
        "def print_board():\n",
        "    for row in board:\n",
        "        print(row)\n",
        "\n",
        "def check_win():\n",
        "    for i in range(3):\n",
        "        if board[i][0] == board[i][1] == board[i][2] != 0:\n",
        "            return True\n",
        "        if board[0][i] == board[1][i] == board[2][i] != 0:\n",
        "            return True\n",
        "    if board[0][0] == board[1][1] == board[2][2] != 0:\n",
        "        return True\n",
        "    if board[0][2] == board[1][1] == board[2][0] != 0:\n",
        "        return True\n",
        "    return False\n",
        "\n",
        "def check_draw():\n",
        "      for row in board:\n",
        "        if 0 in row:\n",
        "          return False\n",
        "      return True\n",
        "\n",
        "def ai_move():\n",
        "    for row in range(3):\n",
        "        for col in range(3):\n",
        "            if board[row][col] == 0:\n",
        "                board[row][col] = 2\n",
        "                if check_win():\n",
        "                    return\n",
        "                board[row][col] = 0\n",
        "\n",
        "    for row in range(3):\n",
        "        for col in range(3):\n",
        "            if board[row][col] == 0:\n",
        "                board[row][col] = 1\n",
        "                if check_win():\n",
        "                    board[row][col] = 2\n",
        "                    return\n",
        "                board[row][col] = 0\n",
        "\n",
        "    if board[1][1] == 0:\n",
        "        board[1][1] = 2\n",
        "        return\n",
        "\n",
        "    corners = [(0, 0), (0, 2), (2, 0), (2, 2)]\n",
        "    random.shuffle(corners)\n",
        "    for row, col in corners:\n",
        "        if board[row][col] == 0:\n",
        "            board[row][col] = 2\n",
        "            return\n",
        "\n",
        "    sides = [(0, 1), (1, 0), (1, 2), (2, 1)]\n",
        "    random.shuffle(sides)\n",
        "    for row, col in sides:\n",
        "        if board[row][col] == 0:\n",
        "            board[row][col] = 2\n",
        "            return\n",
        "\n",
        "flag = True\n",
        "while flag:\n",
        "    print_board()\n",
        "\n",
        "    # Player 1's turn\n",
        "    while True:\n",
        "        try:\n",
        "            print(\"Player 1's turn\")\n",
        "            row = int(input(\"Enter the row number (0-2): \"))\n",
        "            col = int(input(\"Enter the column number (0-2): \"))\n",
        "            if row in range(3) and col in range(3) and board[row][col] == 0:\n",
        "                board[row][col] = 1\n",
        "                break\n",
        "            else:\n",
        "                print(\"Invalid move, cell already taken or out of bounds.\")\n",
        "        except ValueError:\n",
        "            print(\"Invalid input, please enter numbers between 0 and 2.\")\n",
        "\n",
        "    if check_win():\n",
        "        print_board()\n",
        "        print(\"Player 1 wins!\")\n",
        "        break\n",
        "    if check_draw():\n",
        "        print_board()\n",
        "        print(\"Draw!\")\n",
        "        break\n",
        "\n",
        "    print_board()\n",
        "\n",
        "    # Player 2's turn (AI)\n",
        "    print(\"Player 2's turn (AI)\")\n",
        "    ai_move()\n",
        "\n",
        "    if check_win():\n",
        "        print_board()\n",
        "        print(\"Player 2 wins!\")\n",
        "        break\n",
        "    if check_draw():\n",
        "        print_board()\n",
        "        print(\"Draw!\")\n",
        "        break\n"
      ],
      "metadata": {
        "colab": {
          "base_uri": "https://localhost:8080/"
        },
        "id": "0P1zpYVzSen0",
        "outputId": "ef21c8d7-5df6-4e26-e93b-133bc80ea1cd"
      },
      "execution_count": null,
      "outputs": [
        {
          "output_type": "stream",
          "name": "stdout",
          "text": [
            "[0, 0, 0]\n",
            "[0, 0, 0]\n",
            "[0, 0, 0]\n",
            "Player 1's turn\n",
            "Enter the row number (0-2): 1 \n",
            "Enter the column number (0-2): `\n",
            "Invalid input, please enter numbers between 0 and 2.\n",
            "Player 1's turn\n",
            "Enter the row number (0-2): 1\n",
            "Enter the column number (0-2): 1\n",
            "[0, 0, 0]\n",
            "[0, 1, 0]\n",
            "[0, 0, 0]\n",
            "Player 2's turn (AI)\n",
            "[2, 0, 0]\n",
            "[0, 1, 0]\n",
            "[0, 0, 0]\n",
            "Player 1's turn\n",
            "Enter the row number (0-2): 2\n",
            "Enter the column number (0-2): 1\n",
            "[2, 0, 0]\n",
            "[0, 1, 0]\n",
            "[0, 1, 0]\n",
            "Player 2's turn (AI)\n",
            "[2, 2, 0]\n",
            "[0, 1, 0]\n",
            "[0, 1, 0]\n",
            "Player 1's turn\n",
            "Enter the row number (0-2): 0\n",
            "Enter the column number (0-2): 2\n",
            "[2, 2, 1]\n",
            "[0, 1, 0]\n",
            "[0, 1, 0]\n",
            "Player 2's turn (AI)\n",
            "[2, 2, 1]\n",
            "[0, 1, 0]\n",
            "[2, 1, 0]\n",
            "Player 1's turn\n",
            "Enter the row number (0-2): 1\n",
            "Enter the column number (0-2): 0\n",
            "[2, 2, 1]\n",
            "[1, 1, 0]\n",
            "[2, 1, 0]\n",
            "Player 2's turn (AI)\n",
            "[2, 2, 1]\n",
            "[1, 1, 2]\n",
            "[2, 1, 0]\n",
            "Player 1's turn\n",
            "Enter the row number (0-2): 2\n",
            "Enter the column number (0-2): 2\n",
            "[2, 2, 1]\n",
            "[1, 1, 2]\n",
            "[2, 1, 1]\n",
            "Draw!\n"
          ]
        }
      ]
    },
    {
      "cell_type": "markdown",
      "source": [
        "Vacuum Cleaner Agent"
      ],
      "metadata": {
        "id": "2ymtJWwfOY7d"
      }
    },
    {
      "cell_type": "code",
      "source": [
        "class CustomVacuumCleaner:\n",
        "    def __init__(self, states, start_position):\n",
        "        self.rooms = states\n",
        "        self.position = start_position\n",
        "        self.loc = ['A', 'B']\n",
        "\n",
        "    def is_dirty(self):\n",
        "        return self.rooms[self.position] == 1\n",
        "\n",
        "    def clean(self):\n",
        "        if self.is_dirty():\n",
        "            print(f\"Cleaning room {self.loc[self.position]}\")\n",
        "            self.rooms[self.position] = 0\n",
        "        else:\n",
        "            print(f\"Room {self.loc[self.position]} is already clean.\")\n",
        "\n",
        "    def move(self):\n",
        "        if self.position == 0:\n",
        "            self.position = 1\n",
        "        else:\n",
        "            self.position = 0\n",
        "\n",
        "    def run(self):\n",
        "        cleaned = 0\n",
        "        while cleaned <= 1:\n",
        "            self.clean()\n",
        "            self.move()\n",
        "            cleaned += 1\n",
        "\n",
        "        print(\"All rooms are clean!\")\n",
        "\n",
        "\n",
        "a = int(input(\"Enter state for room A, 0 for clean and 1 for dirty \"))\n",
        "b = int(input(\"Enter state for room B, 0 for clean and 1 for dirty \"))\n",
        "states = [a, b]\n",
        "start_position = int(input(\"Enter start position, 0 for room A, 1 for room B \"))\n",
        "\n",
        "\n",
        "vacuum = CustomVacuumCleaner(states, start_position)\n",
        "vacuum.run()\n"
      ],
      "metadata": {
        "colab": {
          "base_uri": "https://localhost:8080/"
        },
        "id": "pM9feb8fLvkf",
        "outputId": "2a08c5ac-0ba1-4512-8a1a-8f27d73c6996"
      },
      "execution_count": null,
      "outputs": [
        {
          "output_type": "stream",
          "name": "stdout",
          "text": [
            "Enter state for room A, 0 for clean and 1 for dirty 0\n",
            "Enter state for room B, 0 for clean and 1 for dirty 1\n",
            "Enter start position, 0 for room A, 1 for room B 1\n",
            "Cleaning room B\n",
            "Room A is already clean.\n",
            "All rooms are clean!\n"
          ]
        }
      ]
    },
    {
      "cell_type": "code",
      "source": [
        "\n"
      ],
      "metadata": {
        "id": "zQmkWvSNQwH2"
      },
      "execution_count": null,
      "outputs": []
    }
  ]
}