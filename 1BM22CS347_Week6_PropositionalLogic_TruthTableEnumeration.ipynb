{
  "nbformat": 4,
  "nbformat_minor": 0,
  "metadata": {
    "colab": {
      "provenance": [],
      "authorship_tag": "ABX9TyOQ1yL9K7SgIF+4sMnT/Qeq",
      "include_colab_link": true
    },
    "kernelspec": {
      "name": "python3",
      "display_name": "Python 3"
    },
    "language_info": {
      "name": "python"
    }
  },
  "cells": [
    {
      "cell_type": "markdown",
      "metadata": {
        "id": "view-in-github",
        "colab_type": "text"
      },
      "source": [
        "<a href=\"https://colab.research.google.com/github/dheemanthAthreya/AI-Lab/blob/main/1BM22CS347_Week6_PropositionalLogic_TruthTableEnumeration.ipynb\" target=\"_parent\"><img src=\"https://colab.research.google.com/assets/colab-badge.svg\" alt=\"Open In Colab\"/></a>"
      ]
    },
    {
      "cell_type": "code",
      "execution_count": 12,
      "metadata": {
        "colab": {
          "base_uri": "https://localhost:8080/"
        },
        "id": "6u5xdosalsan",
        "outputId": "7d338da4-f4f3-40f1-a793-0d5e6c3ad9e2"
      },
      "outputs": [
        {
          "output_type": "stream",
          "name": "stdout",
          "text": [
            "KB does not entail the query.\n"
          ]
        }
      ],
      "source": [
        "import itertools\n",
        "\n",
        "propositions = ['q', 'p', 'r']\n",
        "\n",
        "def KB_assignment(assignment):\n",
        "    q = assignment['q']\n",
        "    p = assignment['p']\n",
        "    r = assignment['r']\n",
        "    return (not q or p) and (not p or not q) and (q or r)\n",
        "\n",
        "def query_assignment(assignment):\n",
        "    q = assignment['q']\n",
        "    p = assignment['p']\n",
        "    r = assignment['r']\n",
        "    return not r or p\n",
        "\n",
        "def check_entailment():\n",
        "    all_assignments = list(itertools.product([False, True], repeat=3))\n",
        "\n",
        "    assignments = [dict(zip(propositions, assignment)) for assignment in all_assignments]\n",
        "\n",
        "    for assignment in assignments:\n",
        "        if KB_assignment(assignment):\n",
        "            if not query_assignment(assignment):\n",
        "                return False\n",
        "\n",
        "    return True\n",
        "\n",
        "\n",
        "if check_entailment():\n",
        "    print(\"KB entails the query.\")\n",
        "else:\n",
        "    print(\"KB does not entail the query.\")\n"
      ]
    }
  ]
}