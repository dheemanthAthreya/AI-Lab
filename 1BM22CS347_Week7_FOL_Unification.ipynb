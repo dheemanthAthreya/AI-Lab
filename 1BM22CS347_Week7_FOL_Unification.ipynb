{
  "nbformat": 4,
  "nbformat_minor": 0,
  "metadata": {
    "colab": {
      "provenance": [],
      "authorship_tag": "ABX9TyMtb2s3BiUoz1XGfj0y5dcK",
      "include_colab_link": true
    },
    "kernelspec": {
      "name": "python3",
      "display_name": "Python 3"
    },
    "language_info": {
      "name": "python"
    }
  },
  "cells": [
    {
      "cell_type": "markdown",
      "metadata": {
        "id": "view-in-github",
        "colab_type": "text"
      },
      "source": [
        "<a href=\"https://colab.research.google.com/github/dheemanthAthreya/AI-Lab/blob/main/1BM22CS347_Week7_FOL_Unification.ipynb\" target=\"_parent\"><img src=\"https://colab.research.google.com/assets/colab-badge.svg\" alt=\"Open In Colab\"/></a>"
      ]
    },
    {
      "cell_type": "code",
      "source": [
        "from collections import defaultdict\n",
        "\n",
        "# Helper function to check if a term is a variable (lowercase string)\n",
        "def is_variable(term):\n",
        "    return isinstance(term, str) and term.islower()\n",
        "\n",
        "# Unify two terms\n",
        "def unify(term1, term2, substitution=None):\n",
        "    if substitution is None:\n",
        "        substitution = {}\n",
        "\n",
        "    # If both terms are the same, no substitution is needed\n",
        "    if term1 == term2:\n",
        "        return substitution\n",
        "\n",
        "    # If term1 is a variable, try to unify it with term2\n",
        "    if is_variable(term1):\n",
        "        return unify_variable(term1, term2, substitution)\n",
        "\n",
        "    # If term2 is a variable, try to unify it with term1\n",
        "    if is_variable(term2):\n",
        "        return unify_variable(term2, term1, substitution)\n",
        "\n",
        "    # If both terms are compound terms (tuples or lists), unify their parts\n",
        "    if isinstance(term1, tuple) and isinstance(term2, tuple):\n",
        "        if len(term1) != len(term2):\n",
        "            raise Exception(f\"Cannot unify terms {term1} and {term2}: Different lengths.\")\n",
        "        # Unify the function symbols and their arguments recursively\n",
        "        return unify(term1[1:], term2[1:], unify(term1[0], term2[0], substitution))\n",
        "\n",
        "    # If no other cases match, unification fails\n",
        "    raise Exception(f\"Cannot unify terms {term1} and {term2}\")\n",
        "\n",
        "# Unify a variable with another term\n",
        "def unify_variable(var, term, substitution):\n",
        "    # If the variable is already in the substitution, apply it\n",
        "    if var in substitution:\n",
        "        return unify(substitution[var], term, substitution)\n",
        "\n",
        "    # If the term is a variable, avoid circular unification (no X -> X)\n",
        "    if var == term:\n",
        "        return substitution\n",
        "\n",
        "    # If the term is a compound term, check if the variable occurs in it (avoid circular unification)\n",
        "    if is_variable(term) and var in term:\n",
        "        raise Exception(f\"Cannot unify variable {var} with {term}: Occurs check failed.\")\n",
        "\n",
        "    # Perform the substitution\n",
        "    substitution[var] = term\n",
        "    return substitution\n",
        "\n",
        "# Example usage\n",
        "term1 = ('father', 'X')\n",
        "term2 = ('father', 'john')\n",
        "\n",
        "try:\n",
        "    substitution = unify(term1, term2)\n",
        "    print(\"Substitution result:\", substitution)\n",
        "except Exception as e:\n",
        "    print(e)\n",
        "\n",
        "# Test with more complex terms\n",
        "term3 = ('mother', 'X')\n",
        "term4 = ('mother', ('father', 'john'))\n",
        "\n",
        "try:\n",
        "    substitution2 = unify(term3, term4)\n",
        "    print(\"Substitution result 2:\", substitution2)\n",
        "except Exception as e:\n",
        "    print(e)\n"
      ],
      "metadata": {
        "colab": {
          "base_uri": "https://localhost:8080/"
        },
        "id": "LfCUs6rPcUc3",
        "outputId": "796b2d34-823a-4618-8048-fbb4da842192"
      },
      "execution_count": 5,
      "outputs": [
        {
          "output_type": "stream",
          "name": "stdout",
          "text": [
            "Substitution result: {'john': 'X'}\n",
            "Cannot unify terms X and ('father', 'john')\n"
          ]
        }
      ]
    },
    {
      "cell_type": "code",
      "source": [],
      "metadata": {
        "id": "wqYWKPyNdsAv"
      },
      "execution_count": null,
      "outputs": []
    }
  ]
}