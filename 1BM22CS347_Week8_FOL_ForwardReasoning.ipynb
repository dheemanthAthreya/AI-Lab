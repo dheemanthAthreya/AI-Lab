{
  "nbformat": 4,
  "nbformat_minor": 0,
  "metadata": {
    "colab": {
      "provenance": [],
      "authorship_tag": "ABX9TyNxR2w6aSsNZxf49n3r2tqA",
      "include_colab_link": true
    },
    "kernelspec": {
      "name": "python3",
      "display_name": "Python 3"
    },
    "language_info": {
      "name": "python"
    }
  },
  "cells": [
    {
      "cell_type": "markdown",
      "metadata": {
        "id": "view-in-github",
        "colab_type": "text"
      },
      "source": [
        "<a href=\"https://colab.research.google.com/github/dheemanthAthreya/AI-Lab/blob/main/1BM22CS347_Week8_FOL_ForwardReasoning.ipynb\" target=\"_parent\"><img src=\"https://colab.research.google.com/assets/colab-badge.svg\" alt=\"Open In Colab\"/></a>"
      ]
    },
    {
      "cell_type": "code",
      "source": [
        "# Given facts and rules\n",
        "known_facts = {\n",
        "    \"American(Robert)\": True,\n",
        "    \"Missile(T1)\": True,\n",
        "    \"Owns(A, T1)\": True,\n",
        "    \"Enemy(A, America)\": True,\n",
        "}\n",
        "\n",
        "inference_rules = [\n",
        "    # Rule 1: Missiles are weapons\n",
        "    {\"if\": [\"Missile(x)\"], \"then\": [\"Weapon(x)\"]},\n",
        "\n",
        "    # Rule 2: Selling weapons to an enemy country makes someone a criminal\n",
        "    {\"if\": [\"American(p)\", \"Weapon(q)\", \"Sells(p, q, r)\", \"Hostile(r)\"], \"then\": [\"Criminal(p)\"]},\n",
        "\n",
        "    # Rule 3: All missiles were sold to country A by Robert\n",
        "    {\"if\": [\"Missile(x)\", \"Owns(A, x)\"], \"then\": [\"Sells(Robert, x, A)\"]},\n",
        "\n",
        "    # Rule 4: The enemy of America is considered hostile\n",
        "    {\"if\": [\"Enemy(x, America)\"], \"then\": [\"Hostile(x)\"]},\n",
        "]\n",
        "\n",
        "# Query to verify\n",
        "target_query = \"Hostile(A)\"\n",
        "\n",
        "# Function to match a condition with a fact\n",
        "def match_condition(condition, fact):\n",
        "    cond_pred, cond_args = condition.split(\"(\")\n",
        "    fact_pred, fact_args = fact.split(\"(\")\n",
        "\n",
        "    if cond_pred != fact_pred:\n",
        "        return None  # Predicates must match\n",
        "\n",
        "    cond_args = cond_args[:-1].split(\",\")\n",
        "    fact_args = fact_args[:-1].split(\",\")\n",
        "\n",
        "    if len(cond_args) != len(fact_args):\n",
        "        return None\n",
        "\n",
        "    mappings = {}\n",
        "\n",
        "    for var, val in zip(cond_args, fact_args):\n",
        "        if var.islower():  # Variable\n",
        "            mappings[var] = val\n",
        "        elif var != val:  # Constant mismatch\n",
        "            return None\n",
        "\n",
        "    return mappings\n",
        "\n",
        "# Function to substitute variables in a statement\n",
        "def substitute_in_statement(statement, mappings):\n",
        "    pred, args = statement.split(\"(\")\n",
        "    args = args[:-1].split(\",\")\n",
        "    updated_args = [mappings.get(arg, arg) for arg in args]\n",
        "    return f\"{pred}({', '.join(updated_args)})\"\n",
        "\n",
        "# Forward chaining mechanism\n",
        "def forward_chaining_inference(known_facts, inference_rules, target_query):\n",
        "    inferred_facts = set(known_facts.keys())  # Initialize with known facts\n",
        "\n",
        "    while True:\n",
        "        new_infer = set()\n",
        "\n",
        "        for rule in inference_rules:\n",
        "            # Check if all \"if\" conditions are satisfied\n",
        "            conditions = rule[\"if\"]\n",
        "            candidate_subs = [{}]\n",
        "\n",
        "            for condition in conditions:\n",
        "                temp_subs = []\n",
        "\n",
        "                for fact in inferred_facts:\n",
        "                    substitutions = match_condition(condition, fact)\n",
        "                    if substitutions is not None:\n",
        "                        for existing_sub in candidate_subs:\n",
        "                            combined_sub = existing_sub.copy()\n",
        "                            combined_sub.update(substitutions)\n",
        "                            temp_subs.append(combined_sub)\n",
        "\n",
        "                if not temp_subs:\n",
        "                    break\n",
        "                candidate_subs = temp_subs\n",
        "\n",
        "            # If all conditions are met, infer the \"then\" conclusions\n",
        "            if candidate_subs:\n",
        "                for subs in candidate_subs:\n",
        "                    for conclusion in rule[\"then\"]:\n",
        "                        inferred_fact = substitute_in_statement(conclusion, subs)\n",
        "                        new_infer.add(inferred_fact)\n",
        "\n",
        "        # If target query is inferred, return True\n",
        "        print(new_infer)\n",
        "        if target_query in new_infer:\n",
        "            return True\n",
        "\n",
        "        # If no new facts can be inferred, return False\n",
        "        if not new_infer - inferred_facts:\n",
        "            return False\n",
        "\n",
        "        inferred_facts.update(new_infer)\n",
        "\n",
        "# Run the forward chaining process and check the result\n",
        "if forward_chaining_inference(known_facts, inference_rules, target_query):\n",
        "    print(f\"The query '{target_query}' is proven.\")\n",
        "else:\n",
        "    print(f\"The query '{target_query}' cannot be proven.\")\n"
      ],
      "metadata": {
        "colab": {
          "base_uri": "https://localhost:8080/"
        },
        "id": "IN2-GiAPjkTf",
        "outputId": "7ffe59b5-25cd-4055-a686-59f293337855"
      },
      "execution_count": 16,
      "outputs": [
        {
          "output_type": "stream",
          "name": "stdout",
          "text": [
            "{'Sells(Robert,  T1,  A)', 'Weapon(T1)', 'Criminal(Robert)', 'Hostile(A)'}\n",
            "The query 'Hostile(A)' is proven.\n"
          ]
        }
      ]
    },
    {
      "cell_type": "code",
      "source": [],
      "metadata": {
        "id": "wt8UhOkOvx8w"
      },
      "execution_count": null,
      "outputs": []
    }
  ]
}