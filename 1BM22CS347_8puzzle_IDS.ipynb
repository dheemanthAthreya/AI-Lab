{
  "nbformat": 4,
  "nbformat_minor": 0,
  "metadata": {
    "colab": {
      "provenance": [],
      "authorship_tag": "ABX9TyO5iE5v/Hhhttjrh0CEfN16",
      "include_colab_link": true
    },
    "kernelspec": {
      "name": "python3",
      "display_name": "Python 3"
    },
    "language_info": {
      "name": "python"
    }
  },
  "cells": [
    {
      "cell_type": "markdown",
      "metadata": {
        "id": "view-in-github",
        "colab_type": "text"
      },
      "source": [
        "<a href=\"https://colab.research.google.com/github/dheemanthAthreya/AI-Lab/blob/main/1BM22CS347_8puzzle_IDS.ipynb\" target=\"_parent\"><img src=\"https://colab.research.google.com/assets/colab-badge.svg\" alt=\"Open In Colab\"/></a>"
      ]
    },
    {
      "cell_type": "code",
      "execution_count": 1,
      "metadata": {
        "colab": {
          "base_uri": "https://localhost:8080/"
        },
        "id": "JOT3AOvS5q0P",
        "outputId": "69697d81-f837-4e5c-c64e-5677d820de5c"
      },
      "outputs": [
        {
          "output_type": "stream",
          "name": "stdout",
          "text": [
            "[5, 4, 0, 6, 1, 8, 7, 3, 2]\n",
            "[5, 4, 8, 6, 1, 0, 7, 3, 2]\n",
            "[5, 4, 8, 6, 1, 2, 7, 3, 0]\n",
            "[5, 4, 8, 6, 1, 2, 7, 0, 3]\n",
            "[5, 4, 8, 6, 0, 2, 7, 1, 3]\n",
            "[5, 4, 8, 6, 2, 0, 7, 1, 3]\n",
            "[5, 4, 0, 6, 2, 8, 7, 1, 3]\n",
            "[5, 0, 4, 6, 2, 8, 7, 1, 3]\n",
            "[0, 5, 4, 6, 2, 8, 7, 1, 3]\n",
            "[6, 5, 4, 0, 2, 8, 7, 1, 3]\n",
            "[6, 5, 4, 2, 0, 8, 7, 1, 3]\n",
            "[6, 5, 4, 2, 1, 8, 7, 0, 3]\n",
            "[6, 5, 4, 2, 1, 8, 7, 3, 0]\n",
            "[6, 5, 4, 2, 1, 0, 7, 3, 8]\n",
            "[6, 5, 0, 2, 1, 4, 7, 3, 8]\n",
            "[6, 0, 5, 2, 1, 4, 7, 3, 8]\n",
            "[6, 1, 5, 2, 0, 4, 7, 3, 8]\n",
            "[6, 1, 5, 0, 2, 4, 7, 3, 8]\n",
            "[0, 1, 5, 6, 2, 4, 7, 3, 8]\n",
            "[1, 0, 5, 6, 2, 4, 7, 3, 8]\n",
            "[1, 2, 5, 6, 0, 4, 7, 3, 8]\n",
            "[1, 2, 5, 6, 4, 0, 7, 3, 8]\n",
            "[1, 2, 0, 6, 4, 5, 7, 3, 8]\n",
            "[1, 0, 2, 6, 4, 5, 7, 3, 8]\n",
            "[1, 4, 2, 6, 0, 5, 7, 3, 8]\n",
            "[1, 4, 2, 6, 3, 5, 7, 0, 8]\n",
            "[1, 4, 2, 6, 3, 5, 0, 7, 8]\n",
            "[1, 4, 2, 0, 3, 5, 6, 7, 8]\n",
            "[1, 4, 2, 3, 0, 5, 6, 7, 8]\n",
            "[1, 0, 2, 3, 4, 5, 6, 7, 8]\n",
            "[0, 1, 2, 3, 4, 5, 6, 7, 8]\n"
          ]
        }
      ],
      "source": [
        "class PuzzleIDS:\n",
        "    def __init__(self, start, goal):\n",
        "        self.start = start\n",
        "        self.goal = goal\n",
        "        self.rows = 3\n",
        "        self.cols = 3\n",
        "\n",
        "    def get_neighbors(self, state):\n",
        "        neighbors = []\n",
        "        zero_pos = state.index(0)\n",
        "        zero_row, zero_col = zero_pos // self.cols, zero_pos % self.cols\n",
        "\n",
        "        moves = [(-1, 0), (1, 0), (0, -1), (0, 1)]\n",
        "        for move in moves:\n",
        "            new_row, new_col = zero_row + move[0], zero_col + move[1]\n",
        "            if 0 <= new_row < self.rows and 0 <= new_col < self.cols:\n",
        "                new_pos = new_row * self.cols + new_col\n",
        "                new_state = list(state)\n",
        "                new_state[zero_pos], new_state[new_pos] = new_state[new_pos], new_state[zero_pos]\n",
        "                neighbors.append(new_state)\n",
        "        return neighbors\n",
        "\n",
        "    def dls(self, state, limit, path, visited):\n",
        "        if tuple(state) in visited:\n",
        "            return None\n",
        "        visited.add(tuple(state))\n",
        "\n",
        "        if state == self.goal:\n",
        "            return path + [state]\n",
        "\n",
        "        if limit <= 0:\n",
        "            return None\n",
        "\n",
        "        neighbors = self.get_neighbors(state)\n",
        "        for neighbor in neighbors:\n",
        "            result = self.dls(neighbor, limit - 1, path + [state], visited)\n",
        "            if result:\n",
        "                return result\n",
        "\n",
        "        visited.remove(tuple(state))\n",
        "        return None\n",
        "\n",
        "    def ids(self):\n",
        "        depth = 0\n",
        "        while True:\n",
        "            visited = set()\n",
        "            result = self.dls(self.start, depth, [], visited)\n",
        "            if result:\n",
        "                return result\n",
        "            depth += 1\n",
        "\n",
        "start_state = [5,4,0,6,1,8,7,3,2]\n",
        "goal_state = [0,1,2,3,4,5,6,7,8]\n",
        "puzzle_ids = PuzzleIDS(start_state, goal_state)\n",
        "solution = puzzle_ids.ids()\n",
        "if solution:\n",
        "    for step in solution:\n",
        "        print(step)\n",
        "else:\n",
        "    print(\"No solution found.\")\n"
      ]
    }
  ]
}